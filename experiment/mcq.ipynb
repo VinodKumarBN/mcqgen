{
 "cells": [
  {
   "cell_type": "code",
   "execution_count": null,
   "id": "718f4e69",
   "metadata": {
    "vscode": {
     "languageId": "plaintext"
    }
   },
   "outputs": [],
   "source": []
  }
 ],
 "metadata": {
  "language_info": {
   "name": "python"
  }
 },
 "nbformat": 4,
 "nbformat_minor": 5
}
