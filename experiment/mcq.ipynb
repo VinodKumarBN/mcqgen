{
 "cells": [
  {
   "cell_type": "code",
   "execution_count": 52,
   "id": "718f4e69",
   "metadata": {},
   "outputs": [],
   "source": [
    "import os\n",
    "import json\n",
    "import pandas as pd\n",
    "import traceback\n",
    "\n"
   ]
  },
  {
   "cell_type": "code",
   "execution_count": 53,
   "id": "0d3c6363",
   "metadata": {},
   "outputs": [],
   "source": [
    "from langchain_openai import ChatOpenAI"
   ]
  },
  {
   "cell_type": "code",
   "execution_count": 54,
   "id": "002cb49b",
   "metadata": {},
   "outputs": [
    {
     "data": {
      "text/plain": [
       "True"
      ]
     },
     "execution_count": 54,
     "metadata": {},
     "output_type": "execute_result"
    }
   ],
   "source": [
    "from dotenv import load_dotenv\n",
    "load_dotenv()"
   ]
  },
  {
   "cell_type": "code",
   "execution_count": 55,
   "id": "f6e61efa",
   "metadata": {},
   "outputs": [],
   "source": [
    "KEY=os.getenv(\"api_key\")"
   ]
  },
  {
   "cell_type": "code",
   "execution_count": 56,
   "id": "83bb8f49",
   "metadata": {},
   "outputs": [],
   "source": [
    "llm=ChatOpenAI(\n",
    "               model=\"deepseek/deepseek-r1:free\",   \n",
    "               openai_api_key=KEY ,  \n",
    "               openai_api_base=\"https://openrouter.ai/api/v1\",\n",
    "               temperature=0.7,          \n",
    "                )"
   ]
  },
  {
   "cell_type": "code",
   "execution_count": 57,
   "id": "1ea7e57c",
   "metadata": {},
   "outputs": [
    {
     "data": {
      "text/plain": [
       "ChatOpenAI(client=<openai.resources.chat.completions.completions.Completions object at 0x000001BA1299FD90>, async_client=<openai.resources.chat.completions.completions.AsyncCompletions object at 0x000001BA12AF4190>, root_client=<openai.OpenAI object at 0x000001BA1299F9D0>, root_async_client=<openai.AsyncOpenAI object at 0x000001BA1299FED0>, model_name='deepseek/deepseek-r1:free', temperature=0.7, model_kwargs={}, openai_api_key=SecretStr('**********'), openai_api_base='https://openrouter.ai/api/v1')"
      ]
     },
     "execution_count": 57,
     "metadata": {},
     "output_type": "execute_result"
    }
   ],
   "source": [
    "llm"
   ]
  },
  {
   "cell_type": "code",
   "execution_count": 58,
   "id": "52479526",
   "metadata": {},
   "outputs": [],
   "source": [
    "from langchain_openai import ChatOpenAI\n",
    "from langchain.prompts import PromptTemplate\n",
    "from langchain.chains import LLMChain\n",
    "from langchain.chains import SequentialChain  \n",
    "import PyPDF3"
   ]
  },
  {
   "cell_type": "code",
   "execution_count": 59,
   "id": "0a0c5e03",
   "metadata": {},
   "outputs": [],
   "source": [
    "RESPONSE_JSON = {\n",
    "    \"1\": {\n",
    "        \"mcq\": \"multiple choice question\",\n",
    "        \"options\": {\n",
    "            \"a\": \"choice here\",\n",
    "            \"b\": \"choice here\",\n",
    "            \"c\": \"choice here\",\n",
    "            \"d\": \"choice here\",\n",
    "        },\n",
    "        \"correct\": \"correct answer\",\n",
    "    },\n",
    "    \"2\": {\n",
    "        \"mcq\": \"multiple choice question\",\n",
    "        \"options\": {\n",
    "            \"a\": \"choice here\",\n",
    "            \"b\": \"choice here\",\n",
    "            \"c\": \"choice here\",\n",
    "            \"d\": \"choice here\",\n",
    "        },\n",
    "        \"correct\": \"correct answer\",\n",
    "    },\n",
    "    \"3\": {\n",
    "        \"mcq\": \"multiple choice question\",\n",
    "        \"options\": {\n",
    "            \"a\": \"choice here\",\n",
    "            \"b\": \"choice here\",\n",
    "            \"c\": \"choice here\",\n",
    "            \"d\": \"choice here\",\n",
    "        },\n",
    "        \"correct\": \"correct answer\",\n",
    "    },\n",
    "}"
   ]
  },
  {
   "cell_type": "code",
   "execution_count": 60,
   "id": "e709687b",
   "metadata": {},
   "outputs": [],
   "source": [
    "TEMPLATE = \"\"\"\n",
    "Text: {text}\n",
    "You are an expert MCQ maker. Given the above text, it is your job to \\\n",
    "create a quiz of {number} multiple choice questions for {subject} students in {tone} tone. \n",
    "Make sure the questions are not repeated and check all the questions to be conforming the text as well.\n",
    "Make sure to format your response like RESPONSE_JSON below and use it as a guide. \\\n",
    "Ensure to make {number} MCQs.\n",
    "\n",
    "### RESPONSE_JSON\n",
    "{response_json}\n",
    " \"IMPORTANT: Respond with only valid JSON exactly matching RESPONSE_JSON. Do NOT add any explanation.\"\n",
    "\n",
    "\"\"\""
   ]
  },
  {
   "cell_type": "code",
   "execution_count": 61,
   "id": "6e94afeb",
   "metadata": {},
   "outputs": [],
   "source": [
    "\n",
    "quiz_generation_prompt = PromptTemplate(\n",
    "    input_variables=[\"text\", \"number\", \"subject\", \"tone\", \"response_json\"],\n",
    "    template=TEMPLATE\n",
    ")"
   ]
  },
  {
   "cell_type": "code",
   "execution_count": 62,
   "id": "fa2b53e7",
   "metadata": {},
   "outputs": [],
   "source": [
    "quiz_chain=LLMChain(llm=llm, prompt=quiz_generation_prompt, output_key=\"quiz\", verbose=True)"
   ]
  },
  {
   "cell_type": "code",
   "execution_count": 63,
   "id": "773f4083",
   "metadata": {},
   "outputs": [],
   "source": [
    "TEMPLATE2 = \"\"\"\n",
    "You are an expert english grammarian and writer. Given a Multiple Choice Quiz for {subject} students.\\\n",
    "You need to evaluate the complexity of the question and give a complete analysis of the quiz. Only use at max 50 words for complexity analysis. \n",
    "if the quiz is not at per with the cognitive and analytical abilities of the students,\\\n",
    "update the quiz questions which needs to be changed and change the tone such that it perfectly fits the student abilities\n",
    "Quiz_MCQs:\n",
    "{quiz}\n",
    "\n",
    "Check from an expert English Writer of the above quiz:\n",
    "\"\"\""
   ]
  },
  {
   "cell_type": "code",
   "execution_count": 64,
   "id": "993be4ab",
   "metadata": {},
   "outputs": [],
   "source": [
    "quiz_evaluation_prompt = PromptTemplate(\n",
    "    input_variables=[\"subject\", \"quiz\"],\n",
    "    template=TEMPLATE2\n",
    ")"
   ]
  },
  {
   "cell_type": "code",
   "execution_count": 65,
   "id": "6b50269f",
   "metadata": {},
   "outputs": [],
   "source": [
    "review_chain = LLMChain(\n",
    "    llm=llm,\n",
    "    prompt=quiz_evaluation_prompt,\n",
    "    output_key=\"review\",\n",
    "    verbose=True\n",
    ")"
   ]
  },
  {
   "cell_type": "code",
   "execution_count": 66,
   "id": "3c3e61a5",
   "metadata": {},
   "outputs": [],
   "source": [
    "\n",
    "#from langchain.schema.runnable import RunnableSequence   \n",
    "#generate_evaluate_chain = quiz_chain | review_chain\n",
    "\n",
    "generate_evaluate_chain=SequentialChain(chains=[quiz_chain, review_chain], input_variables=[\"text\", \"number\", \"subject\", \"tone\", \"response_json\"],\n",
    "                                        output_variables=[\"quiz\", \"review\"], verbose=True,)"
   ]
  },
  {
   "cell_type": "code",
   "execution_count": 67,
   "id": "8859bd2a",
   "metadata": {},
   "outputs": [],
   "source": [
    "file_path =r\"C:\\Users\\Hp\\mcqgen\\data.txt\""
   ]
  },
  {
   "cell_type": "code",
   "execution_count": 68,
   "id": "4e9ccb78",
   "metadata": {},
   "outputs": [
    {
     "data": {
      "text/plain": [
       "'C:\\\\Users\\\\Hp\\\\mcqgen\\\\data.txt'"
      ]
     },
     "execution_count": 68,
     "metadata": {},
     "output_type": "execute_result"
    }
   ],
   "source": [
    "file_path  "
   ]
  },
  {
   "cell_type": "code",
   "execution_count": 69,
   "id": "83eb1b22",
   "metadata": {},
   "outputs": [],
   "source": [
    "with open(file_path, \"r\", encoding=\"utf-8\") as file:\n",
    "    TEXT = file.read()"
   ]
  },
  {
   "cell_type": "code",
   "execution_count": 70,
   "id": "b326af76",
   "metadata": {},
   "outputs": [
    {
     "name": "stdout",
     "output_type": "stream",
     "text": [
      "Generative artificial intelligence (Generative AI, GenAI,[1] or GAI) is a subfield of artificial intelligence that uses generative models to produce text, images, videos, or other forms of data.[2][3][4] These models learn the underlying patterns and structures of their training data and use them to produce new data[5][6] based on the input, which often comes in the form of natural language prompts.[7][8]\n",
      "\n",
      "Generative AI tools have become more common since the AI boom in the 2020s. This boom was made possible by improvements in transformer-based deep neural networks, particularly large language models (LLMs). Major tools include chatbots such as ChatGPT, Copilot, Gemini, Claude, Grok, and DeepSeek; text-to-image models such as Stable Diffusion, Midjourney, and DALL-E; and text-to-video models such as Veo and Sora.[9][10][11][12][13] Technology companies developing generative AI include OpenAI, xAI, Anthropic, Meta AI, Microsoft, Google, DeepSeek, and Baidu.[7][14][15]\n",
      "\n",
      "Generative AI has raised many ethical questions and governance challenges as it can be used for cybercrime, or to deceive or manipulate people through fake news or deepfakes.[16][17] Even if used ethically, it may lead to mass replacement of human jobs.[18] The tools themselves have been criticized as violating intellectual property laws, since they are trained on copyrighted works.[19] Generative AI is used across many industries, including software development,[20] healthcare,[21] finance,[22] entertainment,[23] customer service,[24] sales and marketing,[25] art, writing,[26] fashion,[27] and product design.[28]\n",
      "\n",
      "History\n",
      "Main article: History of artificial intelligence\n",
      "Early history\n",
      "The first example of an algorithmically generated media is likely the Markov chain. Markov chains have long been used to model natural languages since their development by Russian mathematician Andrey Markov in the early 20th century. Markov published his first paper on the topic in 1906,[29][30] and analyzed the pattern of vowels and consonants in the novel Eugeny Onegin using Markov chains. Once a Markov chain is trained on a text corpus, it can then be used as a probabilistic text generator.[31][32]\n",
      "\n",
      "Computers were needed to go beyond Markov chains. By the early 1970s, Harold Cohen was creating and exhibiting generative AI works created by AARON, the computer program Cohen created to generate paintings.[33]\n",
      "\n",
      "The terms generative AI planning or generative planning were used in the 1980s and 1990s to refer to AI planning systems, especially computer-aided process planning, used to generate sequences of actions to reach a specified goal.[34][35] Generative AI planning systems used symbolic AI methods such as state space search and constraint satisfaction and were a \"relatively mature\" technology by the early 1990s. They were used to generate crisis action plans for military use,[36] process plans for manufacturing[34] and decision plans such as in prototype autonomous spacecraft.[37]\n",
      "\n",
      "Generative neural networks (2014–2019)\n",
      "See also: Machine learning and deep learning\n",
      "\n",
      "Above: An image classifier, an example of a neural network trained with a discriminative objective. Below: A text-to-image model, an example of a network trained with a generative objective.\n",
      "\n",
      "\n"
     ]
    }
   ],
   "source": [
    "print(TEXT)"
   ]
  },
  {
   "cell_type": "code",
   "execution_count": 71,
   "id": "0901c844",
   "metadata": {},
   "outputs": [
    {
     "data": {
      "text/plain": [
       "'{\"1\": {\"mcq\": \"multiple choice question\", \"options\": {\"a\": \"choice here\", \"b\": \"choice here\", \"c\": \"choice here\", \"d\": \"choice here\"}, \"correct\": \"correct answer\"}, \"2\": {\"mcq\": \"multiple choice question\", \"options\": {\"a\": \"choice here\", \"b\": \"choice here\", \"c\": \"choice here\", \"d\": \"choice here\"}, \"correct\": \"correct answer\"}, \"3\": {\"mcq\": \"multiple choice question\", \"options\": {\"a\": \"choice here\", \"b\": \"choice here\", \"c\": \"choice here\", \"d\": \"choice here\"}, \"correct\": \"correct answer\"}}'"
      ]
     },
     "execution_count": 71,
     "metadata": {},
     "output_type": "execute_result"
    }
   ],
   "source": [
    "json.dumps(RESPONSE_JSON)"
   ]
  },
  {
   "cell_type": "code",
   "execution_count": 72,
   "id": "6618c66a",
   "metadata": {},
   "outputs": [],
   "source": [
    "NUMBER=5\n",
    "SUBJECT=\"generativeai\"\n",
    "TONE=\"simple\""
   ]
  },
  {
   "cell_type": "code",
   "execution_count": 73,
   "id": "1121320d",
   "metadata": {},
   "outputs": [
    {
     "name": "stdout",
     "output_type": "stream",
     "text": [
      "\n",
      "\n",
      "\u001b[1m> Entering new SequentialChain chain...\u001b[0m\n",
      "\n",
      "\n",
      "\u001b[1m> Entering new LLMChain chain...\u001b[0m\n",
      "Prompt after formatting:\n",
      "\u001b[32;1m\u001b[1;3m\n",
      "Text: Generative artificial intelligence (Generative AI, GenAI,[1] or GAI) is a subfield of artificial intelligence that uses generative models to produce text, images, videos, or other forms of data.[2][3][4] These models learn the underlying patterns and structures of their training data and use them to produce new data[5][6] based on the input, which often comes in the form of natural language prompts.[7][8]\n",
      "\n",
      "Generative AI tools have become more common since the AI boom in the 2020s. This boom was made possible by improvements in transformer-based deep neural networks, particularly large language models (LLMs). Major tools include chatbots such as ChatGPT, Copilot, Gemini, Claude, Grok, and DeepSeek; text-to-image models such as Stable Diffusion, Midjourney, and DALL-E; and text-to-video models such as Veo and Sora.[9][10][11][12][13] Technology companies developing generative AI include OpenAI, xAI, Anthropic, Meta AI, Microsoft, Google, DeepSeek, and Baidu.[7][14][15]\n",
      "\n",
      "Generative AI has raised many ethical questions and governance challenges as it can be used for cybercrime, or to deceive or manipulate people through fake news or deepfakes.[16][17] Even if used ethically, it may lead to mass replacement of human jobs.[18] The tools themselves have been criticized as violating intellectual property laws, since they are trained on copyrighted works.[19] Generative AI is used across many industries, including software development,[20] healthcare,[21] finance,[22] entertainment,[23] customer service,[24] sales and marketing,[25] art, writing,[26] fashion,[27] and product design.[28]\n",
      "\n",
      "History\n",
      "Main article: History of artificial intelligence\n",
      "Early history\n",
      "The first example of an algorithmically generated media is likely the Markov chain. Markov chains have long been used to model natural languages since their development by Russian mathematician Andrey Markov in the early 20th century. Markov published his first paper on the topic in 1906,[29][30] and analyzed the pattern of vowels and consonants in the novel Eugeny Onegin using Markov chains. Once a Markov chain is trained on a text corpus, it can then be used as a probabilistic text generator.[31][32]\n",
      "\n",
      "Computers were needed to go beyond Markov chains. By the early 1970s, Harold Cohen was creating and exhibiting generative AI works created by AARON, the computer program Cohen created to generate paintings.[33]\n",
      "\n",
      "The terms generative AI planning or generative planning were used in the 1980s and 1990s to refer to AI planning systems, especially computer-aided process planning, used to generate sequences of actions to reach a specified goal.[34][35] Generative AI planning systems used symbolic AI methods such as state space search and constraint satisfaction and were a \"relatively mature\" technology by the early 1990s. They were used to generate crisis action plans for military use,[36] process plans for manufacturing[34] and decision plans such as in prototype autonomous spacecraft.[37]\n",
      "\n",
      "Generative neural networks (2014–2019)\n",
      "See also: Machine learning and deep learning\n",
      "\n",
      "Above: An image classifier, an example of a neural network trained with a discriminative objective. Below: A text-to-image model, an example of a network trained with a generative objective.\n",
      "\n",
      "\n",
      "You are an expert MCQ maker. Given the above text, it is your job to create a quiz of 5 multiple choice questions for generativeai students in simple tone. \n",
      "Make sure the questions are not repeated and check all the questions to be conforming the text as well.\n",
      "Make sure to format your response like RESPONSE_JSON below and use it as a guide. Ensure to make 5 MCQs.\n",
      "\n",
      "### RESPONSE_JSON\n",
      "{\"1\": {\"mcq\": \"multiple choice question\", \"options\": {\"a\": \"choice here\", \"b\": \"choice here\", \"c\": \"choice here\", \"d\": \"choice here\"}, \"correct\": \"correct answer\"}, \"2\": {\"mcq\": \"multiple choice question\", \"options\": {\"a\": \"choice here\", \"b\": \"choice here\", \"c\": \"choice here\", \"d\": \"choice here\"}, \"correct\": \"correct answer\"}, \"3\": {\"mcq\": \"multiple choice question\", \"options\": {\"a\": \"choice here\", \"b\": \"choice here\", \"c\": \"choice here\", \"d\": \"choice here\"}, \"correct\": \"correct answer\"}}\n",
      " \"IMPORTANT: Respond with only valid JSON exactly matching RESPONSE_JSON. Do NOT add any explanation.\"\n",
      "\n",
      "\u001b[0m\n",
      "\n",
      "\u001b[1m> Finished chain.\u001b[0m\n",
      "\n",
      "\n",
      "\u001b[1m> Entering new LLMChain chain...\u001b[0m\n",
      "Prompt after formatting:\n",
      "\u001b[32;1m\u001b[1;3m\n",
      "You are an expert english grammarian and writer. Given a Multiple Choice Quiz for generativeai students.You need to evaluate the complexity of the question and give a complete analysis of the quiz. Only use at max 50 words for complexity analysis. \n",
      "if the quiz is not at per with the cognitive and analytical abilities of the students,update the quiz questions which needs to be changed and change the tone such that it perfectly fits the student abilities\n",
      "Quiz_MCQs:\n",
      "{\n",
      "  \"1\": {\n",
      "    \"mcq\": \"What is Generative AI a subfield of?\",\n",
      "    \"options\": {\n",
      "      \"a\": \"Machine learning\",\n",
      "      \"b\": \"Artificial intelligence\",\n",
      "      \"c\": \"Data science\",\n",
      "      \"d\": \"Computer vision\"\n",
      "    },\n",
      "    \"correct\": \"b\"\n",
      "  },\n",
      "  \"2\": {\n",
      "    \"mcq\": \"What technological advancement enabled the AI boom in the 2020s?\",\n",
      "    \"options\": {\n",
      "      \"a\": \"Markov chains\",\n",
      "      \"b\": \"Transformer-based deep neural networks\",\n",
      "      \"c\": \"Symbolic AI methods\",\n",
      "      \"d\": \"State space search\"\n",
      "    },\n",
      "    \"correct\": \"b\"\n",
      "  },\n",
      "  \"3\": {\n",
      "    \"mcq\": \"Which of these is an ethical concern associated with Generative AI?\",\n",
      "    \"options\": {\n",
      "      \"a\": \"Creating renewable energy\",\n",
      "      \"b\": \"Enhancing job opportunities\",\n",
      "      \"c\": \"Deepfakes and fake news\",\n",
      "      \"d\": \"Improving data privacy\"\n",
      "    },\n",
      "    \"correct\": \"c\"\n",
      "  },\n",
      "  \"4\": {\n",
      "    \"mcq\": \"What is considered the first example of algorithmically generated media?\",\n",
      "    \"options\": {\n",
      "      \"a\": \"AARON's paintings\",\n",
      "      \"b\": \"Markov chain\",\n",
      "      \"c\": \"Deep neural networks\",\n",
      "      \"d\": \"Text-to-image models\"\n",
      "    },\n",
      "    \"correct\": \"b\"\n",
      "  },\n",
      "  \"5\": {\n",
      "    \"mcq\": \"When did generative neural networks become prominent?\",\n",
      "    \"options\": {\n",
      "      \"a\": \"1980s\",\n",
      "      \"b\": \"1990s\",\n",
      "      \"c\": \"2014–2019\",\n",
      "      \"d\": \"2020s\"\n",
      "    },\n",
      "    \"correct\": \"c\"\n",
      "  }\n",
      "}\n",
      "\n",
      "Check from an expert English Writer of the above quiz:\n",
      "\u001b[0m\n",
      "\n",
      "\u001b[1m> Finished chain.\u001b[0m\n",
      "\n",
      "\u001b[1m> Finished chain.\u001b[0m\n"
     ]
    },
    {
     "data": {
      "text/plain": [
       "{'text': 'Generative artificial intelligence (Generative AI, GenAI,[1] or GAI) is a subfield of artificial intelligence that uses generative models to produce text, images, videos, or other forms of data.[2][3][4] These models learn the underlying patterns and structures of their training data and use them to produce new data[5][6] based on the input, which often comes in the form of natural language prompts.[7][8]\\n\\nGenerative AI tools have become more common since the AI boom in the 2020s. This boom was made possible by improvements in transformer-based deep neural networks, particularly large language models (LLMs). Major tools include chatbots such as ChatGPT, Copilot, Gemini, Claude, Grok, and DeepSeek; text-to-image models such as Stable Diffusion, Midjourney, and DALL-E; and text-to-video models such as Veo and Sora.[9][10][11][12][13] Technology companies developing generative AI include OpenAI, xAI, Anthropic, Meta AI, Microsoft, Google, DeepSeek, and Baidu.[7][14][15]\\n\\nGenerative AI has raised many ethical questions and governance challenges as it can be used for cybercrime, or to deceive or manipulate people through fake news or deepfakes.[16][17] Even if used ethically, it may lead to mass replacement of human jobs.[18] The tools themselves have been criticized as violating intellectual property laws, since they are trained on copyrighted works.[19] Generative AI is used across many industries, including software development,[20] healthcare,[21] finance,[22] entertainment,[23] customer service,[24] sales and marketing,[25] art, writing,[26] fashion,[27] and product design.[28]\\n\\nHistory\\nMain article: History of artificial intelligence\\nEarly history\\nThe first example of an algorithmically generated media is likely the Markov chain. Markov chains have long been used to model natural languages since their development by Russian mathematician Andrey Markov in the early 20th century. Markov published his first paper on the topic in 1906,[29][30] and analyzed the pattern of vowels and consonants in the novel Eugeny Onegin using Markov chains. Once a Markov chain is trained on a text corpus, it can then be used as a probabilistic text generator.[31][32]\\n\\nComputers were needed to go beyond Markov chains. By the early 1970s, Harold Cohen was creating and exhibiting generative AI works created by AARON, the computer program Cohen created to generate paintings.[33]\\n\\nThe terms generative AI planning or generative planning were used in the 1980s and 1990s to refer to AI planning systems, especially computer-aided process planning, used to generate sequences of actions to reach a specified goal.[34][35] Generative AI planning systems used symbolic AI methods such as state space search and constraint satisfaction and were a \"relatively mature\" technology by the early 1990s. They were used to generate crisis action plans for military use,[36] process plans for manufacturing[34] and decision plans such as in prototype autonomous spacecraft.[37]\\n\\nGenerative neural networks (2014–2019)\\nSee also: Machine learning and deep learning\\n\\nAbove: An image classifier, an example of a neural network trained with a discriminative objective. Below: A text-to-image model, an example of a network trained with a generative objective.\\n\\n',\n",
       " 'number': 5,\n",
       " 'subject': 'generativeai',\n",
       " 'tone': 'simple',\n",
       " 'response_json': '{\"1\": {\"mcq\": \"multiple choice question\", \"options\": {\"a\": \"choice here\", \"b\": \"choice here\", \"c\": \"choice here\", \"d\": \"choice here\"}, \"correct\": \"correct answer\"}, \"2\": {\"mcq\": \"multiple choice question\", \"options\": {\"a\": \"choice here\", \"b\": \"choice here\", \"c\": \"choice here\", \"d\": \"choice here\"}, \"correct\": \"correct answer\"}, \"3\": {\"mcq\": \"multiple choice question\", \"options\": {\"a\": \"choice here\", \"b\": \"choice here\", \"c\": \"choice here\", \"d\": \"choice here\"}, \"correct\": \"correct answer\"}}',\n",
       " 'quiz': '{\\n  \"1\": {\\n    \"mcq\": \"What is Generative AI a subfield of?\",\\n    \"options\": {\\n      \"a\": \"Machine learning\",\\n      \"b\": \"Artificial intelligence\",\\n      \"c\": \"Data science\",\\n      \"d\": \"Computer vision\"\\n    },\\n    \"correct\": \"b\"\\n  },\\n  \"2\": {\\n    \"mcq\": \"What technological advancement enabled the AI boom in the 2020s?\",\\n    \"options\": {\\n      \"a\": \"Markov chains\",\\n      \"b\": \"Transformer-based deep neural networks\",\\n      \"c\": \"Symbolic AI methods\",\\n      \"d\": \"State space search\"\\n    },\\n    \"correct\": \"b\"\\n  },\\n  \"3\": {\\n    \"mcq\": \"Which of these is an ethical concern associated with Generative AI?\",\\n    \"options\": {\\n      \"a\": \"Creating renewable energy\",\\n      \"b\": \"Enhancing job opportunities\",\\n      \"c\": \"Deepfakes and fake news\",\\n      \"d\": \"Improving data privacy\"\\n    },\\n    \"correct\": \"c\"\\n  },\\n  \"4\": {\\n    \"mcq\": \"What is considered the first example of algorithmically generated media?\",\\n    \"options\": {\\n      \"a\": \"AARON\\'s paintings\",\\n      \"b\": \"Markov chain\",\\n      \"c\": \"Deep neural networks\",\\n      \"d\": \"Text-to-image models\"\\n    },\\n    \"correct\": \"b\"\\n  },\\n  \"5\": {\\n    \"mcq\": \"When did generative neural networks become prominent?\",\\n    \"options\": {\\n      \"a\": \"1980s\",\\n      \"b\": \"1990s\",\\n      \"c\": \"2014–2019\",\\n      \"d\": \"2020s\"\\n    },\\n    \"correct\": \"c\"\\n  }\\n}',\n",
       " 'review': '**Complexity Analysis:**  \\nThe quiz tests foundational knowledge with direct factual questions. Suitable for introductory learners but lacks application-based challenges.  \\n\\n**Quiz Updates Needed:**  \\n**Question 4**  \\nCurrent answer (b: Markov chain) is incorrect. **AARON\\'s paintings** (a) predate Markov chain usage in generative media.  \\n**Revised question:**  \\n\"What is considered the **earliest** example of algorithmically generated art?\"  \\n**Correct answer:** a  \\n\\n**Tone Adjustment:**  \\nSimplified phrasing (e.g., \"became prominent\" → \"started gaining attention\") ensures clarity for beginners.  \\n\\n*Other questions are well-structured for target competency.*'}"
      ]
     },
     "execution_count": 73,
     "metadata": {},
     "output_type": "execute_result"
    }
   ],
   "source": [
    "inputs = {\n",
    "    \"text\": TEXT,\n",
    "    \"number\": NUMBER,\n",
    "    \"subject\": SUBJECT,\n",
    "    \"tone\": TONE,\n",
    "    \"response_json\": json.dumps(RESPONSE_JSON),\n",
    "}\n",
    "response = generate_evaluate_chain.invoke(inputs)  \n",
    "response "
   ]
  },
  {
   "cell_type": "code",
   "execution_count": 74,
   "id": "544d0bc8",
   "metadata": {},
   "outputs": [],
   "source": [
    "import json\n",
    "\n",
    "raw_quiz = response.get(\"quiz\", \"\").strip()\n",
    "\n",
    "# Try parsing JSON safely\n",
    "try:\n",
    "    if raw_quiz.startswith(\"```\"):\n",
    "        raw_quiz = raw_quiz.strip(\"`\")\n",
    "        if raw_quiz.startswith(\"json\"):\n",
    "            raw_quiz = raw_quiz[4:].strip()\n",
    "    \n",
    "    quiz = json.loads(raw_quiz)\n",
    "except json.JSONDecodeError as e:\n",
    "    print(\"Failed to decode quiz JSON:\", e)\n",
    "    print(\"Raw output was:\", raw_quiz)\n",
    "    quiz = {}\n"
   ]
  },
  {
   "cell_type": "code",
   "execution_count": 75,
   "id": "b3b9583e",
   "metadata": {},
   "outputs": [],
   "source": [
    "quiz_table_data = []\n",
    "for key, value in quiz.items():\n",
    "    mcq = value[\"mcq\"]\n",
    "    options = \" | \".join(\n",
    "        [f\"{option}: {option_value}\" for option, option_value in value[\"options\"].items()]\n",
    "    )\n",
    "    correct = value[\"correct\"]\n",
    "    quiz_table_data.append({\"MCQ\": mcq, \"Choices\": options, \"Correct\": correct})\n"
   ]
  },
  {
   "cell_type": "code",
   "execution_count": 76,
   "id": "57885b3f",
   "metadata": {},
   "outputs": [
    {
     "data": {
      "text/plain": [
       "[{'MCQ': 'What is Generative AI a subfield of?',\n",
       "  'Choices': 'a: Machine learning | b: Artificial intelligence | c: Data science | d: Computer vision',\n",
       "  'Correct': 'b'},\n",
       " {'MCQ': 'What technological advancement enabled the AI boom in the 2020s?',\n",
       "  'Choices': 'a: Markov chains | b: Transformer-based deep neural networks | c: Symbolic AI methods | d: State space search',\n",
       "  'Correct': 'b'},\n",
       " {'MCQ': 'Which of these is an ethical concern associated with Generative AI?',\n",
       "  'Choices': 'a: Creating renewable energy | b: Enhancing job opportunities | c: Deepfakes and fake news | d: Improving data privacy',\n",
       "  'Correct': 'c'},\n",
       " {'MCQ': 'What is considered the first example of algorithmically generated media?',\n",
       "  'Choices': \"a: AARON's paintings | b: Markov chain | c: Deep neural networks | d: Text-to-image models\",\n",
       "  'Correct': 'b'},\n",
       " {'MCQ': 'When did generative neural networks become prominent?',\n",
       "  'Choices': 'a: 1980s | b: 1990s | c: 2014–2019 | d: 2020s',\n",
       "  'Correct': 'c'}]"
      ]
     },
     "execution_count": 76,
     "metadata": {},
     "output_type": "execute_result"
    }
   ],
   "source": [
    "quiz_table_data"
   ]
  },
  {
   "cell_type": "code",
   "execution_count": 78,
   "id": "5d7c1831",
   "metadata": {},
   "outputs": [],
   "source": [
    "quiz=pd.DataFrame(quiz_table_data)\n"
   ]
  },
  {
   "cell_type": "code",
   "execution_count": 80,
   "id": "de349636",
   "metadata": {},
   "outputs": [],
   "source": [
    "quiz.to_csv(\"Generativeai.csv\",index=False)"
   ]
  },
  {
   "cell_type": "code",
   "execution_count": 77,
   "id": "469a6564",
   "metadata": {},
   "outputs": [
    {
     "data": {
      "text/plain": [
       "'08_22_2025_19_53_46.log'"
      ]
     },
     "execution_count": 77,
     "metadata": {},
     "output_type": "execute_result"
    }
   ],
   "source": [
    "from datetime import datetime\n",
    "f\"{datetime.now().strftime('%m_%d_%Y_%H_%M_%S')}.log\""
   ]
  },
  {
   "cell_type": "code",
   "execution_count": null,
   "id": "ab52e63f",
   "metadata": {},
   "outputs": [],
   "source": []
  }
 ],
 "metadata": {
  "kernelspec": {
   "display_name": "env",
   "language": "python",
   "name": "python3"
  },
  "language_info": {
   "codemirror_mode": {
    "name": "ipython",
    "version": 3
   },
   "file_extension": ".py",
   "mimetype": "text/x-python",
   "name": "python",
   "nbconvert_exporter": "python",
   "pygments_lexer": "ipython3",
   "version": "3.13.6"
  }
 },
 "nbformat": 4,
 "nbformat_minor": 5
}
